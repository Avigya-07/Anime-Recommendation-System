{
 "cells": [
  {
   "cell_type": "code",
   "execution_count": 21,
   "id": "8d221250",
   "metadata": {},
   "outputs": [],
   "source": [
    "#importing necessary classes\n",
    "import pandas as pd\n",
    "import numpy as np\n",
    "import matplotlib.pyplot as plt"
   ]
  },
  {
   "cell_type": "code",
   "execution_count": 22,
   "id": "db4d1104",
   "metadata": {},
   "outputs": [
    {
     "data": {
      "text/html": [
       "<div>\n",
       "<style scoped>\n",
       "    .dataframe tbody tr th:only-of-type {\n",
       "        vertical-align: middle;\n",
       "    }\n",
       "\n",
       "    .dataframe tbody tr th {\n",
       "        vertical-align: top;\n",
       "    }\n",
       "\n",
       "    .dataframe thead th {\n",
       "        text-align: right;\n",
       "    }\n",
       "</style>\n",
       "<table border=\"1\" class=\"dataframe\">\n",
       "  <thead>\n",
       "    <tr style=\"text-align: right;\">\n",
       "      <th></th>\n",
       "      <th>user_id</th>\n",
       "      <th>anime_id</th>\n",
       "      <th>rating</th>\n",
       "      <th>anime_name</th>\n",
       "    </tr>\n",
       "  </thead>\n",
       "  <tbody>\n",
       "    <tr>\n",
       "      <th>0</th>\n",
       "      <td>1</td>\n",
       "      <td>20</td>\n",
       "      <td>-1</td>\n",
       "      <td>Naruto</td>\n",
       "    </tr>\n",
       "    <tr>\n",
       "      <th>1</th>\n",
       "      <td>3</td>\n",
       "      <td>20</td>\n",
       "      <td>8</td>\n",
       "      <td>Naruto</td>\n",
       "    </tr>\n",
       "    <tr>\n",
       "      <th>2</th>\n",
       "      <td>5</td>\n",
       "      <td>20</td>\n",
       "      <td>6</td>\n",
       "      <td>Naruto</td>\n",
       "    </tr>\n",
       "    <tr>\n",
       "      <th>3</th>\n",
       "      <td>6</td>\n",
       "      <td>20</td>\n",
       "      <td>-1</td>\n",
       "      <td>Naruto</td>\n",
       "    </tr>\n",
       "    <tr>\n",
       "      <th>4</th>\n",
       "      <td>10</td>\n",
       "      <td>20</td>\n",
       "      <td>-1</td>\n",
       "      <td>Naruto</td>\n",
       "    </tr>\n",
       "    <tr>\n",
       "      <th>...</th>\n",
       "      <td>...</td>\n",
       "      <td>...</td>\n",
       "      <td>...</td>\n",
       "      <td>...</td>\n",
       "    </tr>\n",
       "    <tr>\n",
       "      <th>10288</th>\n",
       "      <td>127</td>\n",
       "      <td>12815</td>\n",
       "      <td>6</td>\n",
       "      <td>Shirokuma Cafe</td>\n",
       "    </tr>\n",
       "    <tr>\n",
       "      <th>10289</th>\n",
       "      <td>127</td>\n",
       "      <td>18413</td>\n",
       "      <td>7</td>\n",
       "      <td>Puchitto Gargantia</td>\n",
       "    </tr>\n",
       "    <tr>\n",
       "      <th>10290</th>\n",
       "      <td>127</td>\n",
       "      <td>19251</td>\n",
       "      <td>7</td>\n",
       "      <td>Uta no☆Prince-sama♪ Maji Love 2000%: Shining S...</td>\n",
       "    </tr>\n",
       "    <tr>\n",
       "      <th>10291</th>\n",
       "      <td>127</td>\n",
       "      <td>20909</td>\n",
       "      <td>6</td>\n",
       "      <td>Kyoukai no Kanata: Mini Theater</td>\n",
       "    </tr>\n",
       "    <tr>\n",
       "      <th>10292</th>\n",
       "      <td>127</td>\n",
       "      <td>25755</td>\n",
       "      <td>7</td>\n",
       "      <td>Yowamushi Pedal: Re:RIDE</td>\n",
       "    </tr>\n",
       "  </tbody>\n",
       "</table>\n",
       "<p>10293 rows × 4 columns</p>\n",
       "</div>"
      ],
      "text/plain": [
       "       user_id  anime_id  rating  \\\n",
       "0            1        20      -1   \n",
       "1            3        20       8   \n",
       "2            5        20       6   \n",
       "3            6        20      -1   \n",
       "4           10        20      -1   \n",
       "...        ...       ...     ...   \n",
       "10288      127     12815       6   \n",
       "10289      127     18413       7   \n",
       "10290      127     19251       7   \n",
       "10291      127     20909       6   \n",
       "10292      127     25755       7   \n",
       "\n",
       "                                              anime_name  \n",
       "0                                                 Naruto  \n",
       "1                                                 Naruto  \n",
       "2                                                 Naruto  \n",
       "3                                                 Naruto  \n",
       "4                                                 Naruto  \n",
       "...                                                  ...  \n",
       "10288                                     Shirokuma Cafe  \n",
       "10289                                 Puchitto Gargantia  \n",
       "10290  Uta no☆Prince-sama♪ Maji Love 2000%: Shining S...  \n",
       "10291                    Kyoukai no Kanata: Mini Theater  \n",
       "10292                           Yowamushi Pedal: Re:RIDE  \n",
       "\n",
       "[10293 rows x 4 columns]"
      ]
     },
     "execution_count": 22,
     "metadata": {},
     "output_type": "execute_result"
    }
   ],
   "source": [
    "#using pandas to load our dataset, combining the dataset and removing unnecessary columns\n",
    "data = pd.read_csv(\"new.csv\") \n",
    "data2=pd.read_csv('anime.csv')\n",
    "anime_fulldata=pd.merge(data,data2,on='anime_id',suffixes= ['', '_user'])\n",
    "anime_fulldata=anime_fulldata.drop(columns=['genre','type','episodes','rating_user','members'])\n",
    "anime_fulldata = anime_fulldata.rename(columns={'name': 'anime_name',})\n",
    "anime_fulldata"
   ]
  },
  {
   "cell_type": "code",
   "execution_count": 23,
   "id": "84a9eb36",
   "metadata": {},
   "outputs": [
    {
     "name": "stdout",
     "output_type": "stream",
     "text": [
      "unique anime: 2422\n",
      "Unique user:  127\n",
      "\n",
      " user_id     10293\n",
      "anime_id    10293\n",
      "rating      10293\n",
      "dtype: int64\n"
     ]
    }
   ],
   "source": [
    "#checking for unique anime and unique users in dataset\n",
    "a=data['anime_id'].unique()\n",
    "df=pd.DataFrame(anime_fulldata)\n",
    "print(\"unique anime:\", len(a))\n",
    "print (\"Unique user: \",len(data['user_id'].unique()))\n",
    "print ('\\n',data.count()) # checking for number of data in dataset"
   ]
  },
  {
   "cell_type": "code",
   "execution_count": 24,
   "id": "1aaa2ae8",
   "metadata": {},
   "outputs": [
    {
     "data": {
      "text/plain": [
       "<AxesSubplot:title={'center':'Top 10 rated anime based on rating counts'}, xlabel='anime_name'>"
      ]
     },
     "execution_count": 24,
     "metadata": {},
     "output_type": "execute_result"
    },
    {
     "data": {
      "image/png": "[encoded data removed]",
      "text/plain": [
       "<Figure size 432x288 with 1 Axes>"
      ]
     },
     "metadata": {
      "needs_background": "light"
     },
     "output_type": "display_data"
    }
   ],
   "source": [
    "#creating a new dataframe that contains top 10 anime rating counts and showing it in a graph using matplotlib.\n",
    "anime_fulldata1=pd.merge(data,data2,on='anime_id',suffixes= ['', '_user'])\n",
    "anime_fulldata1= anime_fulldata1.rename(columns={'name': 'anime_name',})\n",
    "combine_anime_rating = anime_fulldata1.dropna(axis = 0, subset = ['anime_name'])\n",
    "anime_ratingCount = (combine_anime_rating.groupby(by = ['anime_name'])['rating_user'].count().reset_index().rename(columns = {'rating': 'totalRatingCount'})[['anime_name', 'rating_user']])\n",
    "top10_animerating=anime_ratingCount[['anime_name', 'rating_user']].sort_values(by = 'rating_user',ascending = False).head(10)\n",
    "top10_animerating.plot(title='Top 10 rated anime based on rating counts', kind='bar',x='anime_name',y='rating_user')"
   ]
  },
  {
   "cell_type": "code",
   "execution_count": 25,
   "id": "b658e9ec",
   "metadata": {},
   "outputs": [],
   "source": [
    "#method created to calculate similarity score\n",
    "def sim_distance(prefs,person1,person2):\n",
    "    \"\"\"\n",
    "    Returns a similar distance between two users' preferences\n",
    "    \"\"\"\n",
    "    si={} \n",
    "    for item in prefs[person1]:\n",
    "        if item in prefs[person2]:\n",
    "            si[item] = 1\n",
    "            \n",
    "    if len(si)==0: # no similarity\n",
    "        return 0\n",
    "    \n",
    "    sum_of_squares = sum([pow(prefs[person1][item]-prefs[person2][item],2) for item in prefs[person1] if item in prefs[person2]])\n",
    "    return 1/(1+pow(sum_of_squares,0.5))"
   ]
  },
  {
   "cell_type": "code",
   "execution_count": 26,
   "id": "c6b495f8",
   "metadata": {},
   "outputs": [],
   "source": [
    "#converting our dataframe to dictionary\n",
    "ratings = (df.groupby('user_id')[['anime_name','rating']].apply(lambda x: dict(x.values)).to_dict())"
   ]
  },
  {
   "cell_type": "code",
   "execution_count": 27,
   "id": "1291cfa7",
   "metadata": {},
   "outputs": [],
   "source": [
    "#method created to see top 10 similar users.\n",
    "def sim_user(prefs, person, n=10, similarity = sim_distance):\n",
    "    user_score = [(similarity(prefs,person,other), other) for other in prefs if other!=person]         \n",
    "    user_score.sort()\n",
    "    user_score.reverse()\n",
    "    return user_score[0:n]"
   ]
  },
  {
   "cell_type": "code",
   "execution_count": 28,
   "id": "8eb94d57",
   "metadata": {},
   "outputs": [],
   "source": [
    "#method to calculate rating prediction and recommend to users.\n",
    "def get_recommendations(prefs, person, n=10, similarity = sim_distance):\n",
    "    totalscore = {} \n",
    "    similaritySums = {}\n",
    "    for other in prefs:\n",
    "        if other == person:\n",
    "            continue\n",
    "        sim = similarity(prefs, person, other)\n",
    "        if sim <= 0:\n",
    "            continue\n",
    "        for item in prefs[other]:\n",
    "            if item not in prefs[person] or prefs[person][item] == 0:\n",
    "                totalscore.setdefault(item,0) #returns the value of the item with the specified key\n",
    "                totalscore[item] += prefs[other][item] * sim #calcutating total ratings\n",
    "                similaritySums.setdefault(item,0)\n",
    "                similaritySums[item] += sim   # adding all similarity scores.\n",
    "    rankings = [(totalscore/similaritySums[item], item) for item, totalscore in totalscore.items()] #getting final prediction rating\n",
    "    rank=[]\n",
    "    #creating list contating anime with predicted rating greater than 8.5, for recommendation.\n",
    "    for i in rankings:\n",
    "         if i[0] >= 8.5:\n",
    "            rank.append(i)\n",
    "    return rank[0:n]"
   ]
  },
  {
   "cell_type": "code",
   "execution_count": 30,
   "id": "ff85c1c1",
   "metadata": {},
   "outputs": [
    {
     "data": {
      "text/plain": [
       "[(1.0, 70),\n",
       " (1.0, 69),\n",
       " (1.0, 42),\n",
       " (0.5, 74),\n",
       " (0.4142135623730951, 116),\n",
       " (0.3333333333333333, 59),\n",
       " (0.3333333333333333, 33),\n",
       " (0.28989794855663564, 76),\n",
       " (0.28989794855663564, 72),\n",
       " (0.25, 58)]"
      ]
     },
     "execution_count": 30,
     "metadata": {},
     "output_type": "execute_result"
    }
   ],
   "source": [
    "sim_user(ratings,17) #displaying similars users."
   ]
  },
  {
   "cell_type": "code",
   "execution_count": 31,
   "id": "1f09ed00",
   "metadata": {},
   "outputs": [
    {
     "name": "stdout",
     "output_type": "stream",
     "text": [
      "Recommendations for user 17:\n"
     ]
    },
    {
     "data": {
      "text/plain": [
       "[(8.554777744835382, 'Darker than Black: Kuro no Keiyakusha'),\n",
       " (8.706227307135217, '11eyes: Momoiro Genmutan'),\n",
       " (8.632154734787749, 'Pokemon: Celebi Toki wo Koeta Deai'),\n",
       " (8.620319018034342,\n",
       "  'Pokemon Diamond &amp; Pearl: Dialga vs. Palkia vs. Darkrai'),\n",
       " (9.297079052982493, 'Zetsuen no Tempest'),\n",
       " (9.150587880477909, 'Fairy Tail x Rave'),\n",
       " (9.25909343661581, 'Hungry Heart: Wild Striker'),\n",
       " (8.614155135081228, 'Rurouni Kenshin: Meiji Kenkaku Romantan'),\n",
       " (8.503507599634007, 'Dragon Ball'),\n",
       " (8.64180560772131, 'Bleach')]"
      ]
     },
     "execution_count": 31,
     "metadata": {},
     "output_type": "execute_result"
    }
   ],
   "source": [
    "#generating recommendation for selected user.\n",
    "user=17\n",
    "print('Recommendations for user {}:'.format(user))\n",
    "get_recommendations(ratings,user)"
   ]
  },
  {
   "cell_type": "code",
   "execution_count": null,
   "id": "8254f9d0",
   "metadata": {},
   "outputs": [],
   "source": []
  },
  {
   "cell_type": "code",
   "execution_count": null,
   "id": "ceb80225",
   "metadata": {},
   "outputs": [],
   "source": []
  }
 ],
 "metadata": {
  "kernelspec": {
   "display_name": "Python 3 (ipykernel)",
   "language": "python",
   "name": "python3"
  },
  "language_info": {
   "codemirror_mode": {
    "name": "ipython",
    "version": 3
   },
   "file_extension": ".py",
   "mimetype": "text/x-python",
   "name": "python",
   "nbconvert_exporter": "python",
   "pygments_lexer": "ipython3",
   "version": "3.8.11"
  }
 },
 "nbformat": 4,
 "nbformat_minor": 5
}
